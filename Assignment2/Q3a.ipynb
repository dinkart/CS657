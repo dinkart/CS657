{
 "cells": [
  {
   "cell_type": "code",
   "execution_count": 17,
   "id": "cb658b18",
   "metadata": {},
   "outputs": [],
   "source": [
    "import pandas as pd\n",
    "import matplotlib.pyplot as plt"
   ]
  },
  {
   "cell_type": "code",
   "execution_count": 18,
   "id": "6892fa54",
   "metadata": {},
   "outputs": [],
   "source": [
    "file1 = open(\"data\\hi\\hi.txt\",\"r\", encoding = \"UTF-8\", errors = 'ignore')"
   ]
  },
  {
   "cell_type": "code",
   "execution_count": 19,
   "id": "ff28fc3e",
   "metadata": {},
   "outputs": [],
   "source": [
    "uni_char = {}\n",
    "uni_char[\"अ\"] = 0\n",
    "bi_char = {}\n",
    "tri_char = {}\n",
    "quad_char = {}\n",
    "c = 0"
   ]
  },
  {
   "cell_type": "code",
   "execution_count": 20,
   "id": "a5032c02",
   "metadata": {},
   "outputs": [],
   "source": [
    "dep_vowels = [\"ा\", \"ि\", \"ी\", \"ु\", \"ू\", \"े\", \"ो\", \"ै\", \"ौ\", \"ृ\", \"ॄ\", \"ॉ\", \"ं\", \"्\"]\n",
    "vowels = [\"अ\", \"आ\", \"इ\", \"ई\", \"उ\", \"ऊ\", \"ऋ\", \"ॠ\", \"ए\", \"ऐ\", \"ओ\", \"औ\", \"अं\", \"अः\"]"
   ]
  },
  {
   "cell_type": "code",
   "execution_count": 21,
   "id": "a362da76",
   "metadata": {},
   "outputs": [],
   "source": [
    "def slide(w, l):\n",
    "    return w[1:]+l"
   ]
  },
  {
   "cell_type": "code",
   "execution_count": 22,
   "id": "36d1fbf3",
   "metadata": {},
   "outputs": [],
   "source": [
    "def cal_freq(word):\n",
    "    flag = False   #For check halanta\n",
    "    c = 0\n",
    "    bi_win = word[:1]\n",
    "    tri_win = word[:2]\n",
    "    quad_win = word[:3]\n",
    "    for w in word:\n",
    "        if ord(w) not in range(0x0900, 0x097F):\n",
    "            continue\n",
    "        if flag:\n",
    "            if w not in dep_vowels:\n",
    "                uni_char[\"अ\"] += 1\n",
    "                \n",
    "                if bi_win+\"अ\" not in bi_char.keys():\n",
    "                    bi_char[bi_win+\"अ\"] = 1\n",
    "                else:\n",
    "                    bi_char[bi_win+\"अ\"] += 1\n",
    "                bi_win = slide(bi_win, \"अ\")\n",
    "                \n",
    "                if c >= 2:\n",
    "                    if tri_win+\"अ\" not in tri_char.keys():\n",
    "                        tri_char[tri_win+\"अ\"] = 1\n",
    "                    else:\n",
    "                        tri_char[tri_win+\"अ\"] += 1\n",
    "                    tri_win = slide(tri_win, \"अ\")\n",
    "                else:\n",
    "                    tri_win = list(tri_win)\n",
    "                    tri_win[1] = \"अ\"\n",
    "                    tri_win = \"\".join(tri_win) \n",
    "                \n",
    "                if c >= 3:\n",
    "                    if quad_win+\"अ\" not in quad_char.keys():\n",
    "                        quad_char[quad_win+\"अ\"] = 1\n",
    "                    else:\n",
    "                        quad_char[quad_win+\"अ\"] += 1\n",
    "                    quad_win = slide(quad_win, \"अ\")\n",
    "                else:\n",
    "                    if c==1:\n",
    "                        quad_win = list(quad_win)\n",
    "                        try:\n",
    "                            quad_win[2] = quad_win[1]\n",
    "                        except:\n",
    "                            quad_win.append(quad_win[1])\n",
    "                        quad_win[1] = \"अ\"\n",
    "                        quad_win = \"\".join(quad_win)\n",
    "                    else:\n",
    "                        quad_win = list(quad_win)\n",
    "                        try:\n",
    "                            quad_win[2] = \"अ\"\n",
    "                        except:\n",
    "                            quad_win.append(\"अ\")\n",
    "                        quad_win = \"\".join(quad_win)\n",
    "                \n",
    "                c += 1\n",
    "            else:\n",
    "                flag = False\n",
    "        else:\n",
    "            if w not in dep_vowels and w not in vowels:\n",
    "                flag = True\n",
    "        if w not in uni_char.keys():\n",
    "            uni_char[w] = 1\n",
    "        else:\n",
    "            uni_char[w] += 1\n",
    "        \n",
    "        if c >= 1:\n",
    "            if bi_win+w not in bi_char.keys():\n",
    "                bi_char[bi_win+w] = 1\n",
    "            else:\n",
    "                bi_char[bi_win+w] += 1\n",
    "            bi_win = slide(bi_win, w)\n",
    "        \n",
    "        if c >= 2:\n",
    "            if tri_win+w not in tri_char.keys():\n",
    "                tri_char[tri_win+w] = 1\n",
    "            else:\n",
    "                tri_char[tri_win+w] += 1\n",
    "            tri_win = slide(tri_win, w)\n",
    "        \n",
    "        if c >= 3:\n",
    "            if quad_win+w not in quad_char.keys():\n",
    "                quad_char[quad_win+w] = 1\n",
    "            else:\n",
    "                quad_char[quad_win+w] += 1\n",
    "            quad_win = slide(quad_win, w)\n",
    "        \n",
    "        c += 1\n",
    "    if flag:\n",
    "        uni_char[\"अ\"] += 1"
   ]
  },
  {
   "cell_type": "code",
   "execution_count": 45,
   "id": "b1b123b4",
   "metadata": {},
   "outputs": [],
   "source": [
    "while True and c <= 20000000:\n",
    "    line = file1.readline()\n",
    "    if not line:\n",
    "        break\n",
    "    c += 1\n",
    "    words = line.split()\n",
    "    for word in words:\n",
    "        cal_freq(word)\n",
    "    "
   ]
  },
  {
   "cell_type": "code",
   "execution_count": null,
   "id": "7eff47e2",
   "metadata": {},
   "outputs": [],
   "source": [
    "output = {}\n",
    "uni_chars = sorted(uni_char.items(), key = lambda x: x[1], reverse=True)[:100]\n",
    "bi_chars = sorted(bi_char.items(), key = lambda x: x[1], reverse=True)[:100]\n",
    "tri_chars = sorted(tri_char.items(), key = lambda x: x[1], reverse=True)[:100]\n",
    "quad_chars = sorted(quad_char.items(), key = lambda x: x[1], reverse=True)[:100]\n",
    "output[\"uni_character\"] = [i[0] for i in uni_chars]\n",
    "uni_count = [i[1] for i in uni_chars]\n",
    "output[\"bi_character\"] = [i[0] for i in bi_chars]\n",
    "bi_count = [i[1] for i in bi_chars]\n",
    "output[\"tri_character\"] = [i[0] for i in tri_chars]\n",
    "tri_count = [i[1] for i in tri_chars]\n",
    "output[\"quad_character\"] = [i[0] for i in quad_chars]\n",
    "quad_count = [i[1] for i in quad_chars]"
   ]
  },
  {
   "cell_type": "code",
   "execution_count": null,
   "id": "1118fd1a",
   "metadata": {},
   "outputs": [],
   "source": [
    "data = pd.DataFrame(output)"
   ]
  },
  {
   "cell_type": "code",
   "execution_count": null,
   "id": "57360650",
   "metadata": {},
   "outputs": [],
   "source": [
    "data.to_csv('Top_Characters.txt', index = False)"
   ]
  },
  {
   "cell_type": "code",
   "execution_count": null,
   "id": "0fd8a697",
   "metadata": {},
   "outputs": [],
   "source": [
    "plt.bar([i for i in range(100)], uni_count)\n",
    "plt.xlabel(\"Rank of words\")\n",
    "plt.ylabel(\"Frequency\")"
   ]
  },
  {
   "cell_type": "code",
   "execution_count": null,
   "id": "a8c34265",
   "metadata": {},
   "outputs": [],
   "source": [
    "plt.bar([i for i in range(100)], bi_count)\n",
    "plt.xlabel(\"Rank of words\")\n",
    "plt.ylabel(\"Frequency\")"
   ]
  },
  {
   "cell_type": "code",
   "execution_count": null,
   "id": "6a93fc9d",
   "metadata": {},
   "outputs": [],
   "source": [
    "plt.bar([i for i in range(100)], tri_count)\n",
    "plt.xlabel(\"Rank of words\")\n",
    "plt.ylabel(\"Frequency\")"
   ]
  },
  {
   "cell_type": "code",
   "execution_count": null,
   "id": "a284c7b6",
   "metadata": {},
   "outputs": [],
   "source": [
    "plt.bar([i for i in range(100)], quad_count)\n",
    "plt.xlabel(\"Rank of words\")\n",
    "plt.ylabel(\"Frequency\")"
   ]
  },
  {
   "cell_type": "code",
   "execution_count": null,
   "id": "e481fa5c",
   "metadata": {},
   "outputs": [],
   "source": []
  },
  {
   "cell_type": "code",
   "execution_count": null,
   "id": "15e7917e",
   "metadata": {},
   "outputs": [],
   "source": []
  }
 ],
 "metadata": {
  "kernelspec": {
   "display_name": "Python 3 (ipykernel)",
   "language": "python",
   "name": "python3"
  },
  "language_info": {
   "codemirror_mode": {
    "name": "ipython",
    "version": 3
   },
   "file_extension": ".py",
   "mimetype": "text/x-python",
   "name": "python",
   "nbconvert_exporter": "python",
   "pygments_lexer": "ipython3",
   "version": "3.9.6"
  }
 },
 "nbformat": 4,
 "nbformat_minor": 5
}
