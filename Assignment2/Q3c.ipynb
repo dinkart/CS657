{
 "cells": [
  {
   "cell_type": "code",
   "execution_count": 24,
   "id": "6399b358",
   "metadata": {},
   "outputs": [],
   "source": [
    "import pandas as pd\n",
    "import matplotlib.pyplot as plt"
   ]
  },
  {
   "cell_type": "code",
   "execution_count": 1,
   "id": "f4d039ee",
   "metadata": {},
   "outputs": [],
   "source": [
    "file1 = open(\"data\\hi\\hi.txt\",\"r\", encoding = \"UTF-8\", errors = 'ignore')"
   ]
  },
  {
   "cell_type": "code",
   "execution_count": 2,
   "id": "84b80748",
   "metadata": {},
   "outputs": [],
   "source": [
    "uni_syll = {}\n",
    "bi_syll = {}\n",
    "tri_syll = {}\n",
    "f = 0"
   ]
  },
  {
   "cell_type": "code",
   "execution_count": 3,
   "id": "82eb2e09",
   "metadata": {},
   "outputs": [],
   "source": [
    "dep_vowels = [\"ा\", \"ि\", \"ी\", \"ु\", \"ू\", \"े\", \"ो\", \"ै\", \"ौ\", \"ृ\", \"ॄ\", \"ॉ\", \"ं\", \"ं\", \"़\", \"ॅ\"]\n",
    "vowels = [\"अ\", \"आ\", \"इ\", \"ई\", \"उ\", \"ऊ\", \"ऋ\", \"ॠ\", \"ए\", \"ऐ\", \"ओ\", \"औ\", \"अं\", \"अः\"]\n",
    "punctuations=[\"।\",\";\",\",\",\":\",\"!\",'\"',\"?\",\":-\",\"-\",\"{\",\"(\",\"}\",\")\",\"_\",\"०\",\"S\",\"―\",\"=\",\"[\",\"]\",\"......\",\":-\",\".\",\"॥\",'”',\"|\",\"�\",\"\\xa0\"]"
   ]
  },
  {
   "cell_type": "code",
   "execution_count": 4,
   "id": "438f813e",
   "metadata": {},
   "outputs": [],
   "source": [
    "def cal_freq_s(word):\n",
    "    flag = False\n",
    "    sylls = []\n",
    "    syl = \"\"\n",
    "    for w in word:\n",
    "        if ord(w) not in range(0x0900, 0x097F):\n",
    "            continue\n",
    "        if w in punctuations:\n",
    "            continue\n",
    "        if w == \"्\":\n",
    "            syl += w\n",
    "            flag = False\n",
    "        elif w in dep_vowels:\n",
    "            syl += w\n",
    "        else:\n",
    "            if flag:\n",
    "                sylls.append(syl)\n",
    "                syl = w\n",
    "            else:\n",
    "                syl += w\n",
    "                flag = True\n",
    "    if flag:\n",
    "        sylls.append(syl)\n",
    "\n",
    "    c = 0\n",
    "    bi_win = sylls[:1]\n",
    "    tri_win = sylls[:2]\n",
    "    \n",
    "    for syl in sylls:\n",
    "        if syl not in uni_syll.keys():\n",
    "            uni_syll[syl] = 1\n",
    "        else:\n",
    "            uni_syll[syl] += 1\n",
    "\n",
    "        if c >= 1:\n",
    "            s = bi_win[0] + syl\n",
    "            if s not in bi_syll.keys():\n",
    "                bi_syll[s] = 1\n",
    "            else:\n",
    "                bi_syll[s] += 1\n",
    "            bi_win[0] = syl\n",
    "\n",
    "        if c >= 2:\n",
    "            s = tri_win[0] + tri_win[1] + syl\n",
    "            if s not in tri_syll.keys():\n",
    "                tri_syll[s] = 1\n",
    "            else:\n",
    "                tri_syll[s] += 1\n",
    "            tri_win[0] = tri_win[1]\n",
    "            tri_win[1] = syl\n",
    "            \n",
    "        c+=1"
   ]
  },
  {
   "cell_type": "code",
   "execution_count": 30,
   "id": "79b6d13a",
   "metadata": {},
   "outputs": [],
   "source": [
    "while True and f <= 20000000:\n",
    "    line = file1.readline()\n",
    "    if not line:\n",
    "        break\n",
    "    f += 1\n",
    "#     print(line)\n",
    "    words = line.split()\n",
    "    for word in words:\n",
    "        cal_freq_s(word)"
   ]
  },
  {
   "cell_type": "code",
   "execution_count": 32,
   "id": "1294922c",
   "metadata": {},
   "outputs": [],
   "source": [
    "output = {}\n",
    "uni_sylls = sorted(uni_syll.items(), key = lambda x: x[1], reverse=True)[:100]\n",
    "bi_sylls = sorted(bi_syll.items(), key = lambda x: x[1], reverse=True)[:100]\n",
    "tri_sylls = sorted(tri_syll.items(), key = lambda x: x[1], reverse=True)[:100]\n",
    "output[\"uni_sylls\"] = [i[0] for i in uni_sylls]\n",
    "uni_count = [i[1] for i in uni_sylls]\n",
    "output[\"bi_sylls\"] = [i[0] for i in bi_sylls]\n",
    "bi_count = [i[1] for i in bi_sylls]\n",
    "output[\"tri_sylls\"] = [i[0] for i in tri_sylls]\n",
    "tri_count = [i[1] for i in tri_sylls]"
   ]
  },
  {
   "cell_type": "code",
   "execution_count": 33,
   "id": "61af8891",
   "metadata": {},
   "outputs": [],
   "source": [
    "data = pd.DataFrame(output)"
   ]
  },
  {
   "cell_type": "code",
   "execution_count": 34,
   "id": "b71a7f93",
   "metadata": {},
   "outputs": [],
   "source": [
    "data.to_csv('Top_Syllable.txt', index = False)"
   ]
  },
  {
   "cell_type": "code",
   "execution_count": 35,
   "id": "f12459dd",
   "metadata": {},
   "outputs": [
    {
     "data": {
      "text/plain": [
       "Text(0, 0.5, 'Frequency')"
      ]
     },
     "execution_count": 35,
     "metadata": {},
     "output_type": "execute_result"
    },
    {
     "data": {
      "image/png": "[encoded data removed]",
      "text/plain": [
       "<Figure size 432x288 with 1 Axes>"
      ]
     },
     "metadata": {
      "needs_background": "light"
     },
     "output_type": "display_data"
    }
   ],
   "source": [
    "plt.bar([i for i in range(100)], uni_count)\n",
    "plt.xlabel(\"Rank of words\")\n",
    "plt.ylabel(\"Frequency\")"
   ]
  },
  {
   "cell_type": "code",
   "execution_count": 36,
   "id": "709a5b2d",
   "metadata": {},
   "outputs": [
    {
     "data": {
      "text/plain": [
       "Text(0, 0.5, 'Frequency')"
      ]
     },
     "execution_count": 36,
     "metadata": {},
     "output_type": "execute_result"
    },
    {
     "data": {
      "image/png": "[encoded data removed]",
      "text/plain": [
       "<Figure size 432x288 with 1 Axes>"
      ]
     },
     "metadata": {
      "needs_background": "light"
     },
     "output_type": "display_data"
    }
   ],
   "source": [
    "plt.bar([i for i in range(100)], bi_count)\n",
    "plt.xlabel(\"Rank of words\")\n",
    "plt.ylabel(\"Frequency\")"
   ]
  },
  {
   "cell_type": "code",
   "execution_count": 37,
   "id": "39dc6287",
   "metadata": {},
   "outputs": [
    {
     "data": {
      "text/plain": [
       "Text(0, 0.5, 'Frequency')"
      ]
     },
     "execution_count": 37,
     "metadata": {},
     "output_type": "execute_result"
    },
    {
     "data": {
      "image/png": "[encoded data removed]",
      "text/plain": [
       "<Figure size 432x288 with 1 Axes>"
      ]
     },
     "metadata": {
      "needs_background": "light"
     },
     "output_type": "display_data"
    }
   ],
   "source": [
    "plt.bar([i for i in range(100)], tri_count)\n",
    "plt.xlabel(\"Rank of words\")\n",
    "plt.ylabel(\"Frequency\")"
   ]
  },
  {
   "cell_type": "code",
   "execution_count": null,
   "id": "c23bdd57",
   "metadata": {},
   "outputs": [],
   "source": []
  },
  {
   "cell_type": "code",
   "execution_count": null,
   "id": "d4a1794f",
   "metadata": {},
   "outputs": [],
   "source": []
  },
  {
   "cell_type": "code",
   "execution_count": null,
   "id": "4b2953fa",
   "metadata": {},
   "outputs": [],
   "source": []
  }
 ],
 "metadata": {
  "kernelspec": {
   "display_name": "Python 3 (ipykernel)",
   "language": "python",
   "name": "python3"
  },
  "language_info": {
   "codemirror_mode": {
    "name": "ipython",
    "version": 3
   },
   "file_extension": ".py",
   "mimetype": "text/x-python",
   "name": "python",
   "nbconvert_exporter": "python",
   "pygments_lexer": "ipython3",
   "version": "3.9.6"
  }
 },
 "nbformat": 4,
 "nbformat_minor": 5
}
