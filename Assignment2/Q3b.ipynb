{
 "cells": [
  {
   "cell_type": "code",
   "execution_count": 30,
   "id": "53e864f9",
   "metadata": {},
   "outputs": [],
   "source": [
    "import pandas as pd\n",
    "import matplotlib.pyplot as plt"
   ]
  },
  {
   "cell_type": "code",
   "execution_count": 1,
   "id": "ac25f859",
   "metadata": {},
   "outputs": [],
   "source": [
    "file1 = open(\"data\\hi\\hi.txt\",\"r\", encoding = \"UTF-8\", errors = 'ignore')"
   ]
  },
  {
   "cell_type": "code",
   "execution_count": 2,
   "id": "bfd4f441",
   "metadata": {},
   "outputs": [],
   "source": [
    "uni_word = {}\n",
    "bi_word = {}\n",
    "tri_word = {}\n",
    "f = 0"
   ]
  },
  {
   "cell_type": "code",
   "execution_count": 3,
   "id": "90a3df18",
   "metadata": {},
   "outputs": [],
   "source": [
    "punctuations=[\"।\",\";\",\",\",\":\",\"!\",'\"',\"?\",\":-\",\"-\",\"{\",\"(\",\"}\",\")\",\"_\",\"०\",\"S\",\"―\",\"=\",\"[\",\"]\",\"......\",\":-\",\".\",\"॥\",'”',\"|\",\"�\",\"\\xa0\"]"
   ]
  },
  {
   "cell_type": "code",
   "execution_count": 8,
   "id": "50fcfc2b",
   "metadata": {},
   "outputs": [],
   "source": [
    "while True and f<=20000000:\n",
    "    line = file1.readline()\n",
    "    if not line:\n",
    "        break\n",
    "    f += 1\n",
    "    words = line.split()\n",
    "    i = []\n",
    "    for idx, word in enumerate(words):\n",
    "        w = \"\"\n",
    "        for char in word:    \n",
    "            if ord(char) in range(0x0900, 0x097F) and char not in punctuations:\n",
    "                w += char\n",
    "        words[idx] = w\n",
    "        \n",
    "    c = 0\n",
    "    bi_win = words[:1]\n",
    "    tri_win = words[:2]\n",
    "    for word in words:\n",
    "        if not word:\n",
    "            continue\n",
    "        if word not in uni_word.keys():\n",
    "            uni_word[word] = 1\n",
    "        else:\n",
    "            uni_word[word] += 1\n",
    "\n",
    "        if c >= 1:\n",
    "            w = bi_win[0] + \" \" + word\n",
    "            if w not in bi_word.keys():\n",
    "                bi_word[w] = 1\n",
    "            else:\n",
    "                bi_word[w] += 1\n",
    "            bi_win[0] = word\n",
    "\n",
    "        if c >= 2:\n",
    "            w = tri_win[0] + \" \" + tri_win[1] + \" \" + word\n",
    "            if w not in tri_word.keys():\n",
    "                tri_word[w] = 1\n",
    "            else:\n",
    "                tri_word[w] += 1\n",
    "            tri_win[0] = tri_win[1]\n",
    "            tri_win[1] = word\n",
    "\n",
    "        c+=1"
   ]
  },
  {
   "cell_type": "code",
   "execution_count": 27,
   "id": "247e43cf",
   "metadata": {},
   "outputs": [],
   "source": [
    "output = {}\n",
    "uni_words = sorted(uni_word.items(), key = lambda x: x[1], reverse=True)[:100]\n",
    "bi_words = sorted(bi_word.items(), key = lambda x: x[1], reverse=True)[:100]\n",
    "tri_words = sorted(tri_word.items(), key = lambda x: x[1], reverse=True)[:100]\n",
    "output[\"uni_words\"] = [i[0] for i in uni_words]\n",
    "uni_count = [i[1] for i in uni_words]\n",
    "output[\"bi_words\"] = [i[0] for i in bi_words]\n",
    "bi_count = [i[1] for i in bi_words]\n",
    "output[\"tri_words\"] = [i[0] for i in tri_words]\n",
    "tri_count = [i[1] for i in tri_words]"
   ]
  },
  {
   "cell_type": "code",
   "execution_count": 28,
   "id": "8947bd92",
   "metadata": {},
   "outputs": [],
   "source": [
    "data = pd.DataFrame(output)"
   ]
  },
  {
   "cell_type": "code",
   "execution_count": 29,
   "id": "25465960",
   "metadata": {},
   "outputs": [],
   "source": [
    "data.to_csv('Top_Words.txt', index = False)"
   ]
  },
  {
   "cell_type": "code",
   "execution_count": 36,
   "id": "a4a8fc45",
   "metadata": {},
   "outputs": [
    {
     "data": {
      "text/plain": [
       "Text(0, 0.5, 'Frequency')"
      ]
     },
     "execution_count": 36,
     "metadata": {},
     "output_type": "execute_result"
    },
    {
     "data": {
      "image/png": "[encoded data removed]",
      "text/plain": [
       "<Figure size 432x288 with 1 Axes>"
      ]
     },
     "metadata": {
      "needs_background": "light"
     },
     "output_type": "display_data"
    }
   ],
   "source": [
    "plt.bar([i for i in range(100)], uni_count)\n",
    "plt.xlabel(\"Rank of words\")\n",
    "plt.ylabel(\"Frequency\")"
   ]
  },
  {
   "cell_type": "code",
   "execution_count": 37,
   "id": "94bad449",
   "metadata": {},
   "outputs": [
    {
     "data": {
      "text/plain": [
       "Text(0, 0.5, 'Frequency')"
      ]
     },
     "execution_count": 37,
     "metadata": {},
     "output_type": "execute_result"
    },
    {
     "data": {
      "image/png": "[encoded data removed]",
      "text/plain": [
       "<Figure size 432x288 with 1 Axes>"
      ]
     },
     "metadata": {
      "needs_background": "light"
     },
     "output_type": "display_data"
    }
   ],
   "source": [
    "plt.bar([i for i in range(100)], bi_count)\n",
    "plt.xlabel(\"Rank of words\")\n",
    "plt.ylabel(\"Frequency\")"
   ]
  },
  {
   "cell_type": "code",
   "execution_count": 38,
   "id": "fb7ac08c",
   "metadata": {},
   "outputs": [
    {
     "data": {
      "text/plain": [
       "Text(0, 0.5, 'Frequency')"
      ]
     },
     "execution_count": 38,
     "metadata": {},
     "output_type": "execute_result"
    },
    {
     "data": {
      "image/png": "[encoded data removed]",
      "text/plain": [
       "<Figure size 432x288 with 1 Axes>"
      ]
     },
     "metadata": {
      "needs_background": "light"
     },
     "output_type": "display_data"
    }
   ],
   "source": [
    "plt.bar([i for i in range(100)], tri_count)\n",
    "plt.xlabel(\"Rank of words\")\n",
    "plt.ylabel(\"Frequency\")"
   ]
  },
  {
   "cell_type": "code",
   "execution_count": null,
   "id": "80f18521",
   "metadata": {},
   "outputs": [],
   "source": []
  }
 ],
 "metadata": {
  "kernelspec": {
   "display_name": "Python 3 (ipykernel)",
   "language": "python",
   "name": "python3"
  },
  "language_info": {
   "codemirror_mode": {
    "name": "ipython",
    "version": 3
   },
   "file_extension": ".py",
   "mimetype": "text/x-python",
   "name": "python",
   "nbconvert_exporter": "python",
   "pygments_lexer": "ipython3",
   "version": "3.9.6"
  }
 },
 "nbformat": 4,
 "nbformat_minor": 5
}
