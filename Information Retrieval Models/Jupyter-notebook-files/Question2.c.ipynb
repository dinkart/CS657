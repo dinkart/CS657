{
 "cells": [
  {
   "cell_type": "code",
   "execution_count": 19,
   "id": "9ced007a",
   "metadata": {},
   "outputs": [],
   "source": [
    "import json\n",
    "import re\n",
    "import nltk\n",
    "from nltk import word_tokenize\n",
    "from nltk.stem import PorterStemmer\n",
    "from pathlib import Path\n",
    "import numpy as np\n",
    "from num2words import num2words\n",
    "import sys"
   ]
  },
  {
   "cell_type": "code",
   "execution_count": 2,
   "id": "f6d79589",
   "metadata": {},
   "outputs": [],
   "source": [
    "def token_stem(string):\n",
    "    ps = PorterStemmer()\n",
    "    from nltk.corpus import stopwords\n",
    "    stopWords = stopwords.words('english')\n",
    "    string = string.lower()\n",
    "    string = re.sub(r'[^\\w\\s]', ' ', string)                     #To remove punctuations\n",
    "    string = string.encode(\"ascii\", \"ignore\").decode()          #To remove non-ASCII characters\n",
    "    tokens = nltk.word_tokenize(string)\n",
    "    #Numeric to Alpha-numeric\n",
    "    for i in range(len(tokens)):\n",
    "        if tokens[i].isnumeric():\n",
    "            num = re.sub(r'[^\\w\\s]', ' ', num2words(tokens[i])).split()\n",
    "            tokens.pop(i)\n",
    "            tokens += num\n",
    "    tokens = [ps.stem(word) for word in tokens if word not in stopWords]\n",
    "    return tokens"
   ]
  },
  {
   "cell_type": "code",
   "execution_count": 31,
   "id": "5906bcf6",
   "metadata": {},
   "outputs": [],
   "source": [
    "def BM25(query, w_coll, l = 10, b = 0.75, k = 2):\n",
    "    query = query.lower()\n",
    "    q_tokens = token_stem(query)\n",
    "    lengths = {}\n",
    "    N = 0\n",
    "    avg_len = 0\n",
    "    for path in Path(\"english-corpora\").iterdir():\n",
    "        fname = path.name[:-4]\n",
    "        lengths[fname] = len(open(path, 'r' , encoding=\"utf8\").read().split())             #cal no of words of each file\n",
    "        N += 1                          #To calculate total no of files\n",
    "        avg_len += lengths[fname]\n",
    "    avg_len /= N\n",
    "    #Calculate idf of each token\n",
    "    idf = {}\n",
    "    for word in np.unique(q_tokens):\n",
    "        if word in w_coll.keys():\n",
    "            df = len(w_coll[word].keys())\n",
    "        else:\n",
    "            df = 0\n",
    "        idf[word] = np.log((N - df + 0.5) / (df + 0.5))\n",
    "    score = {}\n",
    "    for path in Path(\"english-corpora\").iterdir():\n",
    "        fname = path.name[:-4]\n",
    "        s = 0\n",
    "        for word in np.unique(q_tokens):\n",
    "            tf = 0\n",
    "            if word in w_coll.keys() and fname in w_coll[word].keys():\n",
    "                tf = w_coll[word][fname]\n",
    "            s += idf[word] * (tf * (k + 1)) / (k*(1 - b + b*lengths[fname]/avg_len) + tf)\n",
    "        score[fname] = s\n",
    "    return sorted(score, key = score.get, reverse=True)[:l]"
   ]
  },
  {
   "cell_type": "code",
   "execution_count": 25,
   "id": "288bf2be",
   "metadata": {},
   "outputs": [],
   "source": [
    "if sys.argv[1] != '-f':\n",
    "    query = sys.argv[1]\n",
    "    w_coll = json.load(open('data.json'))\n",
    "    print(\"Most Relevant docs are : \" + str(BM25(query, w_coll)))"
   ]
  },
  {
   "cell_type": "code",
   "execution_count": 26,
   "id": "239bbd96",
   "metadata": {
    "scrolled": true
   },
   "outputs": [],
   "source": [
    "#print(\"Most Relevant docs are : \" + str(BM25(query, w_coll)))"
   ]
  },
  {
   "cell_type": "code",
   "execution_count": null,
   "id": "d0536d6e",
   "metadata": {},
   "outputs": [],
   "source": []
  }
 ],
 "metadata": {
  "kernelspec": {
   "display_name": "Python 3 (ipykernel)",
   "language": "python",
   "name": "python3"
  },
  "language_info": {
   "codemirror_mode": {
    "name": "ipython",
    "version": 3
   },
   "file_extension": ".py",
   "mimetype": "text/x-python",
   "name": "python",
   "nbconvert_exporter": "python",
   "pygments_lexer": "ipython3",
   "version": "3.9.6"
  }
 },
 "nbformat": 4,
 "nbformat_minor": 5
}
