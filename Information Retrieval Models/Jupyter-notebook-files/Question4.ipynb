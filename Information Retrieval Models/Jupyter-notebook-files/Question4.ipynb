{
 "cells": [
  {
   "cell_type": "code",
   "execution_count": 1,
   "id": "e05f8972",
   "metadata": {},
   "outputs": [],
   "source": [
    "import importlib\n",
    "import csv\n",
    "import json\n",
    "import sys"
   ]
  },
  {
   "cell_type": "code",
   "execution_count": 2,
   "id": "5571493c",
   "metadata": {},
   "outputs": [],
   "source": [
    "BR = importlib.import_module(\"Q2a\")\n",
    "TFIDF = importlib.import_module(\"Q2b\")\n",
    "BM25m = importlib.import_module(\"Q2c\")"
   ]
  },
  {
   "cell_type": "code",
   "execution_count": 3,
   "id": "d927e1db",
   "metadata": {},
   "outputs": [],
   "source": [
    "fname = sys.argv[1]\n",
    "query = {}\n",
    "a_file = open(fname, encoding = \"UTF-8\")\n",
    "next(a_file)\n",
    "for line in a_file:\n",
    "    line = line.split(\"\\t\")\n",
    "    query[line[0]] = line[1]\n",
    "a_file.close()"
   ]
  },
  {
   "cell_type": "code",
   "execution_count": 4,
   "id": "4fbb73b1",
   "metadata": {},
   "outputs": [],
   "source": [
    "w_coll = json.load(open('data.json'))\n",
    "dic = {\"QueryId\" : [], \"Iteration\" : [], \"DocId\": [],\"Relevance\": []}"
   ]
  },
  {
   "cell_type": "code",
   "execution_count": null,
   "id": "1afb2b75",
   "metadata": {},
   "outputs": [],
   "source": [
    "#Boolean Model\n",
    "for qID in query:\n",
    "    docs = BR.BRSystem(query[qID], w_coll)\n",
    "    for i in range(len(docs)):\n",
    "        dic[\"QueryId\"].append(qID)\n",
    "        dic[\"Iteration\"].append(1)\n",
    "        dic[\"Relevance\"].append(1)\n",
    "        dic[\"DocId\"].append(docs[i])"
   ]
  },
  {
   "cell_type": "code",
   "execution_count": null,
   "id": "09811e90",
   "metadata": {},
   "outputs": [],
   "source": [
    "f = open('Boolean.txt', 'w')\n",
    "f.write(\"QueryId, Iteration, DocId, Relevance\\n\")\n",
    "for i in range(len(dic[\"QueryId\"])):\n",
    "    f.write(f'{dic[\"QueryId\"][i]}, {dic[\"Iteration\"][i]}, {dic[\"DocId\"][i]}.txt, {dic[\"Relevance\"][i]}')\n",
    "    f.write(\"\\n\")\n",
    "f.close()\n",
    "dic = {\"QueryId\" : [], \"Iteration\" : [], \"DocId\": [],\"Relevance\": []}"
   ]
  },
  {
   "cell_type": "code",
   "execution_count": null,
   "id": "03382775",
   "metadata": {},
   "outputs": [],
   "source": [
    "#Tf-Idf Model\n",
    "for qID in query:\n",
    "    docs = TFIDF.tfidf(query[qID], w_coll)\n",
    "    for i in range(5):\n",
    "        dic[\"QueryId\"].append(qID)\n",
    "        dic[\"Iteration\"].append(1)\n",
    "        dic[\"Relevance\"].append(1)\n",
    "        dic[\"DocId\"].append(docs[i])"
   ]
  },
  {
   "cell_type": "code",
   "execution_count": null,
   "id": "b61e0e1f",
   "metadata": {},
   "outputs": [],
   "source": [
    "f = open('TFIDF.txt', 'w')\n",
    "f.write(\"QueryId, Iteration, DocId, Relevance\\n\")\n",
    "for i in range(len(dic[\"QueryId\"])):\n",
    "    f.write(f'{dic[\"QueryId\"][i]}, {dic[\"Iteration\"][i]}, {dic[\"DocId\"][i]}.txt, {dic[\"Relevance\"][i]}')\n",
    "    f.write(\"\\n\")\n",
    "f.close()\n",
    "dic = {\"QueryId\" : [], \"Iteration\" : [], \"DocId\": [],\"Relevance\": []}"
   ]
  },
  {
   "cell_type": "code",
   "execution_count": 5,
   "id": "881a3ae5",
   "metadata": {},
   "outputs": [],
   "source": [
    "#BM25 Model\n",
    "for qID in query:\n",
    "    docs = BM25m.BM25(query[qID], w_coll)\n",
    "    for i in range(5):\n",
    "        dic[\"QueryId\"].append(qID)\n",
    "        dic[\"Iteration\"].append(1)\n",
    "        dic[\"Relevance\"].append(1)\n",
    "        dic[\"DocId\"].append(docs[i])"
   ]
  },
  {
   "cell_type": "code",
   "execution_count": 6,
   "id": "fce42d4d",
   "metadata": {},
   "outputs": [],
   "source": [
    "f = open('BM25.txt', 'w')\n",
    "f.write(\"QueryId, Iteration, DocId, Relevance\\n\")\n",
    "for i in range(len(dic[\"QueryId\"])):\n",
    "    f.write(f'{dic[\"QueryId\"][i]}, {dic[\"Iteration\"][i]}, {dic[\"DocId\"][i]}.txt, {dic[\"Relevance\"][i]}')\n",
    "    f.write(\"\\n\")\n",
    "f.close()"
   ]
  },
  {
   "cell_type": "code",
   "execution_count": null,
   "id": "64bc6d07",
   "metadata": {},
   "outputs": [],
   "source": []
  }
 ],
 "metadata": {
  "kernelspec": {
   "display_name": "Python 3 (ipykernel)",
   "language": "python",
   "name": "python3"
  },
  "language_info": {
   "codemirror_mode": {
    "name": "ipython",
    "version": 3
   },
   "file_extension": ".py",
   "mimetype": "text/x-python",
   "name": "python",
   "nbconvert_exporter": "python",
   "pygments_lexer": "ipython3",
   "version": "3.9.6"
  }
 },
 "nbformat": 4,
 "nbformat_minor": 5
}
