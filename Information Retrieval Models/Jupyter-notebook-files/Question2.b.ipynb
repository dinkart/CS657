{
 "cells": [
  {
   "cell_type": "code",
   "execution_count": 6,
   "id": "adb8d5de",
   "metadata": {},
   "outputs": [],
   "source": [
    "import json\n",
    "import re\n",
    "import nltk\n",
    "from nltk import word_tokenize\n",
    "from nltk.stem import PorterStemmer\n",
    "from pathlib import Path\n",
    "import numpy as np\n",
    "from num2words import num2words\n",
    "import sys"
   ]
  },
  {
   "cell_type": "code",
   "execution_count": 2,
   "id": "daa5d33c",
   "metadata": {},
   "outputs": [],
   "source": [
    "def token_stem(string):\n",
    "    ps = PorterStemmer()\n",
    "    from nltk.corpus import stopwords\n",
    "    stopWords = stopwords.words('english')\n",
    "    string = string.lower()\n",
    "    string = re.sub(r'[^\\w\\s]', ' ', string)                     #To remove punctuations\n",
    "    string = string.encode(\"ascii\", \"ignore\").decode()          #To remove non-ASCII characters\n",
    "    tokens = nltk.word_tokenize(string)\n",
    "    #Numeric to Alpha-numeric\n",
    "    for i in range(len(tokens)):\n",
    "        if tokens[i].isnumeric():\n",
    "            num = re.sub(r'[^\\w\\s]', ' ', num2words(tokens[i])).split()\n",
    "            tokens.pop(i)\n",
    "            tokens += num\n",
    "    tokens = [ps.stem(word) for word in tokens if word not in stopWords]\n",
    "    return tokens"
   ]
  },
  {
   "cell_type": "code",
   "execution_count": 3,
   "id": "5a0eba77",
   "metadata": {},
   "outputs": [],
   "source": [
    "def tfidf(query, w_coll, k = 10):\n",
    "    query = query.lower()\n",
    "    q_tokens = token_stem(query)\n",
    "    lengths = {}\n",
    "    N = 0\n",
    "    for path in Path(\"english-corpora\").iterdir():\n",
    "        fname = path.name[:-4]\n",
    "        lengths[fname] = len(open(path, 'r' , encoding=\"utf8\").read().split())             #cal no of words of each file\n",
    "        N += 1                          #To calculate total no of files\n",
    "    #Calculate idf of each file\n",
    "    idf = {}\n",
    "    for word in np.unique(q_tokens):\n",
    "        df = len(w_coll[word].keys())\n",
    "        idf[word] = np.log((N + 1) / (df + 1))\n",
    "    #Calculate tf-idf score vector of each file\n",
    "    tf_idf = {}\n",
    "    for path in Path(\"english-corpora\").iterdir():\n",
    "        fname = path.name[:-4]\n",
    "        for word in np.unique(q_tokens):\n",
    "            tf = 0\n",
    "            if fname in w_coll[word].keys():\n",
    "                tf = w_coll[word][fname] / lengths[fname]\n",
    "            if fname not in tf_idf.keys():\n",
    "                tf_idf[fname] = []\n",
    "            tf_idf[fname].append(tf * idf[word])\n",
    "    #Calculate tf-idf score vector of query\n",
    "    len_q = len(query.split())\n",
    "    tf_idf_q = []\n",
    "    for word in np.unique(q_tokens):\n",
    "        tf = q_tokens.count(word) / len_q\n",
    "        tf_idf_q.append(tf * idf[word])\n",
    "    #Calculation of cosine-similarity\n",
    "    cos_sim = {}\n",
    "    for path in Path(\"english-corpora\").iterdir():\n",
    "        fname = path.name[:-4]\n",
    "        den = (np.linalg.norm(tf_idf[fname])*np.linalg.norm(tf_idf_q))      #denominator\n",
    "        if not den:\n",
    "            cos_sim[fname] = 0\n",
    "        else:\n",
    "            cos_sim[fname] = np.dot(tf_idf[fname], tf_idf_q)/den\n",
    "    #return list of k most relevant files\n",
    "    return sorted(cos_sim, key = cos_sim.get, reverse=True)[:k]"
   ]
  },
  {
   "cell_type": "code",
   "execution_count": 11,
   "id": "571bddd7",
   "metadata": {},
   "outputs": [],
   "source": [
    "if sys.argv[1] != '-f':\n",
    "    query = sys.argv[1]\n",
    "    w_coll = json.load(open('data.json'))\n",
    "    print(\"Most Relevant docs are : \" + str(tfidf(query, w_coll)))"
   ]
  },
  {
   "cell_type": "code",
   "execution_count": 8,
   "id": "4262eb09",
   "metadata": {
    "scrolled": true
   },
   "outputs": [
    {
     "name": "stdout",
     "output_type": "stream",
     "text": [
      "Most Relevant docs are : ['C00002', 'C00003', 'C00004', 'C00005', 'C00007', 'C00008', 'C00009', 'C00010', 'C00011', 'C00012']\n"
     ]
    }
   ],
   "source": [
    "#print(\"Most Relevant docs are : \" + str(tfidf(query, w_coll)))"
   ]
  },
  {
   "cell_type": "code",
   "execution_count": null,
   "id": "41948191",
   "metadata": {},
   "outputs": [],
   "source": []
  }
 ],
 "metadata": {
  "kernelspec": {
   "display_name": "Python 3 (ipykernel)",
   "language": "python",
   "name": "python3"
  },
  "language_info": {
   "codemirror_mode": {
    "name": "ipython",
    "version": 3
   },
   "file_extension": ".py",
   "mimetype": "text/x-python",
   "name": "python",
   "nbconvert_exporter": "python",
   "pygments_lexer": "ipython3",
   "version": "3.9.6"
  }
 },
 "nbformat": 4,
 "nbformat_minor": 5
}
