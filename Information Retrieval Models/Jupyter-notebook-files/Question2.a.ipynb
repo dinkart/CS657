{
 "cells": [
  {
   "cell_type": "code",
   "execution_count": 11,
   "id": "4b5d5402",
   "metadata": {},
   "outputs": [],
   "source": [
    "import json\n",
    "import re\n",
    "import nltk\n",
    "from nltk import word_tokenize\n",
    "from nltk.stem import PorterStemmer\n",
    "from pathlib import Path\n",
    "from num2words import num2words\n",
    "import sys"
   ]
  },
  {
   "cell_type": "code",
   "execution_count": 2,
   "id": "dd42ac92",
   "metadata": {},
   "outputs": [],
   "source": [
    "def token_stem(string):\n",
    "    ps = PorterStemmer()\n",
    "    from nltk.corpus import stopwords\n",
    "    stopWords = stopwords.words('english')\n",
    "    string = string.lower()\n",
    "    string = re.sub(r'[^\\w\\s]', ' ', string)                     #To remove punctuations\n",
    "    string = string.encode(\"ascii\", \"ignore\").decode()          #To remove non-ASCII characters\n",
    "    tokens = nltk.word_tokenize(string)\n",
    "    #Numeric to Alpha-numeric\n",
    "    for i in range(len(tokens)):\n",
    "        if tokens[i].isnumeric():\n",
    "            num = re.sub(r'[^\\w\\s]', ' ', num2words(tokens[i])).split()\n",
    "            tokens.pop(i)\n",
    "            tokens += num\n",
    "    tokens = [ps.stem(word) for word in tokens if word not in stopWords]\n",
    "    return tokens"
   ]
  },
  {
   "cell_type": "code",
   "execution_count": 3,
   "id": "ed27271d",
   "metadata": {},
   "outputs": [],
   "source": [
    "def BRSystem(query, w_coll):\n",
    "    query = query.lower()\n",
    "    q_words = token_stem(query)\n",
    "    rel_docs = []\n",
    "    bitmap = {}\n",
    "    for path in Path(\"english-corpora\").iterdir():\n",
    "        fname = path.name[:-4]\n",
    "        bitmap[fname] = [1]\n",
    "        for word in q_words:\n",
    "            if fname in w_coll[word].keys():\n",
    "                bitmap[fname].append(1)\n",
    "            else:\n",
    "                bitmap[fname].append(0)\n",
    "        b = 1\n",
    "        for i in bitmap[fname] : b &= i\n",
    "        if b:\n",
    "            rel_docs.append(fname)\n",
    "    return rel_docs"
   ]
  },
  {
   "cell_type": "code",
   "execution_count": 12,
   "id": "ce7d2243",
   "metadata": {},
   "outputs": [],
   "source": [
    "if sys.argv[1] != '-f':\n",
    "    query = sys.argv[1]\n",
    "    w_coll = json.load(open('data.json'))\n",
    "    print(\"Most Relevant docs are : \" + str(BRSystem(query, w_coll)))"
   ]
  },
  {
   "cell_type": "code",
   "execution_count": 9,
   "id": "1cd34aa5",
   "metadata": {},
   "outputs": [
    {
     "data": {
      "text/plain": [
       "['C00009']"
      ]
     },
     "execution_count": 9,
     "metadata": {},
     "output_type": "execute_result"
    }
   ],
   "source": [
    "#print(\"Most Relevant docs are : \" + str(BRSystem(query, w_coll)))"
   ]
  },
  {
   "cell_type": "code",
   "execution_count": null,
   "id": "9017c075",
   "metadata": {},
   "outputs": [],
   "source": []
  }
 ],
 "metadata": {
  "kernelspec": {
   "display_name": "Python 3 (ipykernel)",
   "language": "python",
   "name": "python3"
  },
  "language_info": {
   "codemirror_mode": {
    "name": "ipython",
    "version": 3
   },
   "file_extension": ".py",
   "mimetype": "text/x-python",
   "name": "python",
   "nbconvert_exporter": "python",
   "pygments_lexer": "ipython3",
   "version": "3.9.6"
  }
 },
 "nbformat": 4,
 "nbformat_minor": 5
}
