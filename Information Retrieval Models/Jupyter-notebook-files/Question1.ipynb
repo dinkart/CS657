{
 "cells": [
  {
   "cell_type": "code",
   "execution_count": 1,
   "id": "e5055763",
   "metadata": {},
   "outputs": [],
   "source": [
    "import nltk\n",
    "from nltk import word_tokenize\n",
    "from nltk.stem import PorterStemmer\n",
    "from num2words import num2words\n",
    "from pathlib import Path\n",
    "import json\n",
    "import re"
   ]
  },
  {
   "cell_type": "code",
   "execution_count": 2,
   "id": "bc4ce06a",
   "metadata": {},
   "outputs": [],
   "source": [
    "ps = PorterStemmer()\n",
    "from nltk.corpus import stopwords\n",
    "stopWords = stopwords.words('english')"
   ]
  },
  {
   "cell_type": "code",
   "execution_count": 3,
   "id": "219384bc",
   "metadata": {},
   "outputs": [],
   "source": [
    "w_col = {}"
   ]
  },
  {
   "cell_type": "code",
   "execution_count": 4,
   "id": "4c7ccc1b",
   "metadata": {},
   "outputs": [],
   "source": [
    "def token_stem(string):\n",
    "    ps = PorterStemmer()\n",
    "    from nltk.corpus import stopwords\n",
    "    stopWords = stopwords.words('english')\n",
    "    string = string.lower()\n",
    "    string = re.sub(r'[^\\w\\s]', ' ', string)                     #To remove punctuations\n",
    "    string = string.encode(\"ascii\", \"ignore\").decode()          #To remove non-ASCII characters\n",
    "    tokens = nltk.word_tokenize(string)\n",
    "    #Numeric to Alpha-numeric\n",
    "    for i in range(len(tokens)):\n",
    "        if tokens[i].isnumeric():\n",
    "            num = re.sub(r'[^\\w\\s]', ' ', num2words(tokens[i])).split()\n",
    "            tokens.pop(i)\n",
    "            tokens += num\n",
    "    tokens = [ps.stem(word) for word in tokens if word not in stopWords]\n",
    "    return tokens"
   ]
  },
  {
   "cell_type": "code",
   "execution_count": 5,
   "id": "879fa602",
   "metadata": {},
   "outputs": [],
   "source": [
    "for path in Path(\"english-corpora\").iterdir():\n",
    "    fname = path.name[:-4]\n",
    "    text = open(path, 'r' , encoding=\"utf8\").read()\n",
    "    words = token_stem(text)\n",
    "    \n",
    "    for word in words:\n",
    "        if word in w_col.keys():\n",
    "            if fname in w_col[word].keys():\n",
    "                w_col[word][fname] += 1\n",
    "            else:\n",
    "                w_col[word][fname] = 1\n",
    "        else:\n",
    "            temp = {fname : 1}\n",
    "            w_col[word] = temp.copy()"
   ]
  },
  {
   "cell_type": "code",
   "execution_count": 6,
   "id": "87f23bef",
   "metadata": {},
   "outputs": [
    {
     "data": {
      "text/plain": [
       "537577"
      ]
     },
     "execution_count": 6,
     "metadata": {},
     "output_type": "execute_result"
    }
   ],
   "source": [
    "len(w_col.keys())"
   ]
  },
  {
   "cell_type": "code",
   "execution_count": 7,
   "id": "89a142bf",
   "metadata": {},
   "outputs": [],
   "source": [
    "with open('data.json', 'w') as fp:\n",
    "    json.dump(w_col, fp,  indent=4)"
   ]
  },
  {
   "cell_type": "code",
   "execution_count": null,
   "id": "d57e7704",
   "metadata": {},
   "outputs": [],
   "source": []
  }
 ],
 "metadata": {
  "kernelspec": {
   "display_name": "Python 3 (ipykernel)",
   "language": "python",
   "name": "python3"
  },
  "language_info": {
   "codemirror_mode": {
    "name": "ipython",
    "version": 3
   },
   "file_extension": ".py",
   "mimetype": "text/x-python",
   "name": "python",
   "nbconvert_exporter": "python",
   "pygments_lexer": "ipython3",
   "version": "3.9.6"
  }
 },
 "nbformat": 4,
 "nbformat_minor": 5
}
